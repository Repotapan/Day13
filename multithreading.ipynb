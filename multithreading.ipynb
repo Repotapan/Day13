{
 "cells": [
  {
   "cell_type": "code",
   "execution_count": 1,
   "id": "f61b95d4-c010-4fe6-8efc-52f992866c8c",
   "metadata": {},
   "outputs": [],
   "source": [
    "import threading"
   ]
  },
  {
   "cell_type": "code",
   "execution_count": 5,
   "id": "854dc6eb-d0a4-4b52-b4fc-1602b8a1a2e7",
   "metadata": {},
   "outputs": [],
   "source": [
    "def test(id):\n",
    "    print(\"program start %d \"% id)"
   ]
  },
  {
   "cell_type": "code",
   "execution_count": 6,
   "id": "a67d55af-0f30-4e54-896a-85db2f137887",
   "metadata": {},
   "outputs": [
    {
     "name": "stdout",
     "output_type": "stream",
     "text": [
      "program start 45 \n"
     ]
    }
   ],
   "source": [
    "test(45)"
   ]
  },
  {
   "cell_type": "code",
   "execution_count": 5,
   "id": "13b25406-6676-4cd6-bcb4-e54d8d045588",
   "metadata": {},
   "outputs": [],
   "source": [
    "import threading"
   ]
  },
  {
   "cell_type": "code",
   "execution_count": 6,
   "id": "1fe268d3-cfca-4d80-88eb-6808139d0b22",
   "metadata": {},
   "outputs": [],
   "source": [
    "def test(id):\n",
    "    print(\"program start % d\"% id)"
   ]
  },
  {
   "cell_type": "code",
   "execution_count": 7,
   "id": "be2ccb65-40dd-4f8a-9bff-7a9cb0c09081",
   "metadata": {},
   "outputs": [],
   "source": [
    "thread=[threading.Thread(target=test,args=(i,)) for i in range(10)]"
   ]
  },
  {
   "cell_type": "code",
   "execution_count": 8,
   "id": "fc703847-361d-4d02-8ddb-7736de606b5a",
   "metadata": {},
   "outputs": [
    {
     "name": "stdout",
     "output_type": "stream",
     "text": [
      "program start  0\n",
      "program start  1\n",
      "program start  2\n",
      "program start  3\n",
      "program start  4\n",
      "program start  5\n",
      "program start  6\n",
      "program start  7\n",
      "program start  8\n",
      "program start  9\n"
     ]
    }
   ],
   "source": [
    "for t in thread:\n",
    "    t.start()\n",
    "    "
   ]
  },
  {
   "cell_type": "code",
   "execution_count": 9,
   "id": "b39c9f0c-8349-48cd-9fb5-9d92fe8de4b3",
   "metadata": {},
   "outputs": [
    {
     "data": {
      "text/plain": [
       "[0, 1, 2, 3, 4, 5, 6, 7, 8, 9]"
      ]
     },
     "execution_count": 9,
     "metadata": {},
     "output_type": "execute_result"
    }
   ],
   "source": [
    "list(range(10))"
   ]
  },
  {
   "cell_type": "code",
   "execution_count": 10,
   "id": "498d9c73-ac74-4b7e-9c7a-85592969c5e7",
   "metadata": {},
   "outputs": [
    {
     "data": {
      "text/plain": [
       "[<Thread(Thread-5 (test), stopped 140091624252992)>,\n",
       " <Thread(Thread-6 (test), stopped 140091624252992)>,\n",
       " <Thread(Thread-7 (test), stopped 140091624252992)>,\n",
       " <Thread(Thread-8 (test), stopped 140091624252992)>,\n",
       " <Thread(Thread-9 (test), stopped 140091624252992)>,\n",
       " <Thread(Thread-10 (test), stopped 140091624252992)>,\n",
       " <Thread(Thread-11 (test), stopped 140091624252992)>,\n",
       " <Thread(Thread-12 (test), stopped 140091624252992)>,\n",
       " <Thread(Thread-13 (test), stopped 140091624252992)>,\n",
       " <Thread(Thread-14 (test), stopped 140091624252992)>]"
      ]
     },
     "execution_count": 10,
     "metadata": {},
     "output_type": "execute_result"
    }
   ],
   "source": [
    "thread"
   ]
  },
  {
   "cell_type": "code",
   "execution_count": 12,
   "id": "9f3ab213-68d3-43cc-a38c-6865899a7d99",
   "metadata": {},
   "outputs": [],
   "source": [
    "import threading\n",
    "import urllib.request\n",
    "\n",
    "def file_download(url,filname):\n",
    "    urllib.request.urlretrieve(url,filname)\n",
    "    "
   ]
  },
  {
   "cell_type": "code",
   "execution_count": 14,
   "id": "1d7db534-ad9f-4578-83b3-bb161e989112",
   "metadata": {},
   "outputs": [],
   "source": [
    "file_download(\"https://github.com/Repotapan/Assignment13/blob/main/Assignment13.ipynb\",\"test10.txt\")"
   ]
  },
  {
   "cell_type": "code",
   "execution_count": 15,
   "id": "05a02921-7b35-4ff5-8c69-4644fbc29111",
   "metadata": {},
   "outputs": [],
   "source": [
    "url_list=[\"https://github.com/Repotapan/Assignment13/blob/main/Assignment13.ipynb\",\"https://github.com/Repotapan/Assignment12.1/blob/main/Assignment12%20(1).ipynb\",\"https://github.com/Repotapan/Assignment10.1/blob/main/Assignment10%20(1).ipynb\"]"
   ]
  },
  {
   "cell_type": "code",
   "execution_count": 16,
   "id": "303e3d3a-23e6-4b55-8097-6fe19c988ab3",
   "metadata": {},
   "outputs": [
    {
     "data": {
      "text/plain": [
       "['https://github.com/Repotapan/Assignment13/blob/main/Assignment13.ipynb',\n",
       " 'https://github.com/Repotapan/Assignment12.1/blob/main/Assignment12%20(1).ipynb',\n",
       " 'https://github.com/Repotapan/Assignment10.1/blob/main/Assignment10%20(1).ipynb']"
      ]
     },
     "execution_count": 16,
     "metadata": {},
     "output_type": "execute_result"
    }
   ],
   "source": [
    "url_list"
   ]
  },
  {
   "cell_type": "code",
   "execution_count": 17,
   "id": "d502baa3-892e-437d-ae8a-ca764c52936a",
   "metadata": {},
   "outputs": [],
   "source": [
    "file_name_list=[\"data1.txt\",\"data2.txt\",\"data3.txt\"] "
   ]
  },
  {
   "cell_type": "code",
   "execution_count": 18,
   "id": "8a4182c0-9765-438f-b36c-1b413e870246",
   "metadata": {},
   "outputs": [],
   "source": [
    "ther=[threading.Thread(target=file_download,args=(url_list[i],file_name_list[i])) for i in range(len(url_list))]"
   ]
  },
  {
   "cell_type": "code",
   "execution_count": 19,
   "id": "ea21835d-e9df-4ab2-8ec8-162ca347cfe7",
   "metadata": {},
   "outputs": [
    {
     "data": {
      "text/plain": [
       "[<Thread(Thread-15 (file_download), initial)>,\n",
       " <Thread(Thread-16 (file_download), initial)>,\n",
       " <Thread(Thread-17 (file_download), initial)>]"
      ]
     },
     "execution_count": 19,
     "metadata": {},
     "output_type": "execute_result"
    }
   ],
   "source": [
    "ther"
   ]
  },
  {
   "cell_type": "code",
   "execution_count": 20,
   "id": "2377e7e2-184d-42e0-be22-ffc6238203da",
   "metadata": {},
   "outputs": [],
   "source": [
    "for t in ther:\n",
    "    t.start()"
   ]
  },
  {
   "cell_type": "code",
   "execution_count": 21,
   "id": "0c167a30-8f24-40a6-a05b-e46772603456",
   "metadata": {},
   "outputs": [
    {
     "data": {
      "text/plain": [
       "[<Thread(Thread-15 (file_download), stopped 140091624252992)>,\n",
       " <Thread(Thread-16 (file_download), stopped 140091606419008)>,\n",
       " <Thread(Thread-17 (file_download), stopped 140091598026304)>]"
      ]
     },
     "execution_count": 21,
     "metadata": {},
     "output_type": "execute_result"
    }
   ],
   "source": [
    "ther"
   ]
  },
  {
   "cell_type": "code",
   "execution_count": 32,
   "id": "96de8711-dc99-4fd4-b8d7-bf1c64f50233",
   "metadata": {},
   "outputs": [],
   "source": [
    "import time"
   ]
  },
  {
   "cell_type": "code",
   "execution_count": 33,
   "id": "9e85a9f8-ac13-466f-a68e-38d2fffe00bc",
   "metadata": {},
   "outputs": [],
   "source": [
    "def test1(id):\n",
    "    for i in range(10):\n",
    "        print(\"test1 %d printing %d %s\"%(id,i,time.ctime()))\n",
    "        time.sleep(1)"
   ]
  },
  {
   "cell_type": "code",
   "execution_count": 34,
   "id": "68753f7d-4884-4533-9c47-c23572113633",
   "metadata": {},
   "outputs": [
    {
     "name": "stdout",
     "output_type": "stream",
     "text": [
      "test1 1 printing 0 Tue Feb 14 16:03:02 2023\n",
      "test1 1 printing 1 Tue Feb 14 16:03:03 2023\n",
      "test1 1 printing 2 Tue Feb 14 16:03:04 2023\n",
      "test1 1 printing 3 Tue Feb 14 16:03:05 2023\n",
      "test1 1 printing 4 Tue Feb 14 16:03:06 2023\n",
      "test1 1 printing 5 Tue Feb 14 16:03:07 2023\n",
      "test1 1 printing 6 Tue Feb 14 16:03:08 2023\n",
      "test1 1 printing 7 Tue Feb 14 16:03:09 2023\n",
      "test1 1 printing 8 Tue Feb 14 16:03:10 2023\n",
      "test1 1 printing 9 Tue Feb 14 16:03:11 2023\n"
     ]
    }
   ],
   "source": [
    "test1(1)"
   ]
  },
  {
   "cell_type": "code",
   "execution_count": 35,
   "id": "387f5fb5-1338-4356-aed2-ea602de3d891",
   "metadata": {},
   "outputs": [],
   "source": [
    "thread=[threading.Thread(target=test1,args=(i,)) for i in range(3)]"
   ]
  },
  {
   "cell_type": "code",
   "execution_count": 36,
   "id": "dfa42704-33ea-41d1-9af3-b426e4532673",
   "metadata": {},
   "outputs": [
    {
     "name": "stdout",
     "output_type": "stream",
     "text": [
      "test1 0 printing 0 Tue Feb 14 16:03:38 2023\n",
      "test1 1 printing 0 Tue Feb 14 16:03:38 2023\n",
      "test1 2 printing 0 Tue Feb 14 16:03:38 2023\n",
      "test1 0 printing 1 Tue Feb 14 16:03:39 2023\n",
      "test1 2 printing 1 Tue Feb 14 16:03:39 2023\n",
      "test1 1 printing 1 Tue Feb 14 16:03:39 2023\n",
      "test1 0 printing 2 Tue Feb 14 16:03:40 2023\n",
      "test1 2 printing 2 Tue Feb 14 16:03:40 2023\n",
      "test1 1 printing 2 Tue Feb 14 16:03:40 2023\n",
      "test1 0 printing 3 Tue Feb 14 16:03:41 2023test1 2 printing 3 Tue Feb 14 16:03:41 2023\n",
      "test1 1 printing 3 Tue Feb 14 16:03:41 2023\n",
      "\n",
      "test1 2 printing 4 Tue Feb 14 16:03:42 2023\n",
      "test1 0 printing 4 Tue Feb 14 16:03:42 2023\n",
      "test1 1 printing 4 Tue Feb 14 16:03:42 2023\n",
      "test1 2 printing 5 Tue Feb 14 16:03:43 2023test1 0 printing 5 Tue Feb 14 16:03:43 2023\n",
      "\n",
      "test1 1 printing 5 Tue Feb 14 16:03:43 2023\n",
      "test1 0 printing 6 Tue Feb 14 16:03:44 2023test1 2 printing 6 Tue Feb 14 16:03:44 2023\n",
      "\n",
      "test1 1 printing 6 Tue Feb 14 16:03:44 2023\n",
      "test1 1 printing 7 Tue Feb 14 16:03:45 2023\n",
      "test1 0 printing 7 Tue Feb 14 16:03:45 2023\n",
      "test1 2 printing 7 Tue Feb 14 16:03:45 2023\n",
      "test1 0 printing 8 Tue Feb 14 16:03:46 2023\n",
      "test1 1 printing 8 Tue Feb 14 16:03:46 2023\n",
      "test1 2 printing 8 Tue Feb 14 16:03:46 2023\n",
      "test1 0 printing 9 Tue Feb 14 16:03:47 2023\n",
      "test1 1 printing 9 Tue Feb 14 16:03:47 2023\n",
      "test1 2 printing 9 Tue Feb 14 16:03:47 2023\n"
     ]
    }
   ],
   "source": [
    "for t in thread:\n",
    "    t.start()"
   ]
  },
  {
   "cell_type": "code",
   "execution_count": null,
   "id": "c44a7d42-8d77-4a8c-b949-e1e467bc1dcb",
   "metadata": {},
   "outputs": [],
   "source": []
  }
 ],
 "metadata": {
  "kernelspec": {
   "display_name": "Python 3 (ipykernel)",
   "language": "python",
   "name": "python3"
  },
  "language_info": {
   "codemirror_mode": {
    "name": "ipython",
    "version": 3
   },
   "file_extension": ".py",
   "mimetype": "text/x-python",
   "name": "python",
   "nbconvert_exporter": "python",
   "pygments_lexer": "ipython3",
   "version": "3.10.8"
  }
 },
 "nbformat": 4,
 "nbformat_minor": 5
}
